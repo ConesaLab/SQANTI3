{
 "cells": [
  {
   "cell_type": "code",
   "execution_count": 1,
   "metadata": {},
   "outputs": [],
   "source": [
    "import logging\n",
    "import math\n",
    "import os\n",
    "import sys\n",
    "import time\n",
    "from typing import Optional\n",
    "\n",
    "# import argparse\n",
    "import click\n",
    "import gtfparse"
   ]
  },
  {
   "cell_type": "code",
   "execution_count": 2,
   "metadata": {},
   "outputs": [],
   "source": [
    "version = 1.5\n",
    "CLASS_COLUMN_USED = [0, 1, 2, 3, 5, 6, 7, 28, 30, 31]\n",
    "CLASS_COLUMN_NAME = [\n",
    "    \"isoform\",\n",
    "    \"chrom\",\n",
    "    \"strand\",\n",
    "    \"length\",\n",
    "    \"structural_category\",\n",
    "    \"associated_gene\",\n",
    "    \"associated_transcript\",\n",
    "    \"ORF_length\",\n",
    "    \"CDS_start\",\n",
    "    \"CDS_end\",\n",
    "]"
   ]
  },
  {
   "cell_type": "code",
   "execution_count": 3,
   "metadata": {},
   "outputs": [],
   "source": [
    "annotation_file = \"/home/milo/workspace/Homo_sapiens_GRCh38_Ensembl_86.gff3\""
   ]
  },
  {
   "cell_type": "code",
   "execution_count": 4,
   "metadata": {},
   "outputs": [
    {
     "data": {
      "text/plain": [
       "'1.4.1'"
      ]
     },
     "execution_count": 4,
     "metadata": {},
     "output_type": "execute_result"
    }
   ],
   "source": [
    "gtfparse.__version__"
   ]
  },
  {
   "cell_type": "code",
   "execution_count": 5,
   "metadata": {
    "scrolled": false
   },
   "outputs": [
    {
     "name": "stderr",
     "output_type": "stream",
     "text": [
      "INFO:gtfparse:Reading in data in chunks\n",
      "loading file: 7chunks [00:09,  1.31s/chunks]                   \n",
      "INFO:gtfparse:swifter found, processing in parallel\n",
      "INFO:gtfparse:Repairing non-standard 'attributes'\n"
     ]
    },
    {
     "data": {
      "application/vnd.jupyter.widget-view+json": {
       "model_id": "dce5a3f6ad01433987d6de8c293ce978",
       "version_major": 2,
       "version_minor": 0
      },
      "text/plain": [
       "HBox(children=(FloatProgress(value=0.0, description='Pandas Apply', max=6398382.0, style=ProgressStyle(descrip…"
      ]
     },
     "metadata": {},
     "output_type": "display_data"
    },
    {
     "name": "stderr",
     "output_type": "stream",
     "text": [
      "INFO:gtfparse:Converting non-integer 'start' values to 0\n"
     ]
    },
    {
     "name": "stdout",
     "output_type": "stream",
     "text": [
      "\n"
     ]
    },
    {
     "name": "stderr",
     "output_type": "stream",
     "text": [
      "INFO:gtfparse:Converting non-integer 'end' values to 0\n"
     ]
    }
   ],
   "source": [
    "annot_df = gtfparse.parse_gtf(annotation_file)"
   ]
  },
  {
   "cell_type": "code",
   "execution_count": 6,
   "metadata": {},
   "outputs": [
    {
     "data": {
      "text/html": [
       "<div>\n",
       "<style scoped>\n",
       "    .dataframe tbody tr th:only-of-type {\n",
       "        vertical-align: middle;\n",
       "    }\n",
       "\n",
       "    .dataframe tbody tr th {\n",
       "        vertical-align: top;\n",
       "    }\n",
       "\n",
       "    .dataframe thead th {\n",
       "        text-align: right;\n",
       "    }\n",
       "</style>\n",
       "<table border=\"1\" class=\"dataframe\">\n",
       "  <thead>\n",
       "    <tr style=\"text-align: right;\">\n",
       "      <th></th>\n",
       "      <th>seqname</th>\n",
       "      <th>source</th>\n",
       "      <th>feature</th>\n",
       "      <th>start</th>\n",
       "      <th>end</th>\n",
       "      <th>score</th>\n",
       "      <th>strand</th>\n",
       "      <th>frame</th>\n",
       "      <th>attribute</th>\n",
       "    </tr>\n",
       "  </thead>\n",
       "  <tbody>\n",
       "    <tr>\n",
       "      <th>0</th>\n",
       "      <td>ENST00000618881</td>\n",
       "      <td>tappAS</td>\n",
       "      <td>transcript</td>\n",
       "      <td>1</td>\n",
       "      <td>3193</td>\n",
       "      <td>NaN</td>\n",
       "      <td>-</td>\n",
       "      <td>0</td>\n",
       "      <td>ID=ENST00000618881;primary_class=protein_codin...</td>\n",
       "    </tr>\n",
       "    <tr>\n",
       "      <th>1</th>\n",
       "      <td>ENST00000618881</td>\n",
       "      <td>tappAS</td>\n",
       "      <td>gene</td>\n",
       "      <td>1</td>\n",
       "      <td>3193</td>\n",
       "      <td>NaN</td>\n",
       "      <td>-</td>\n",
       "      <td>0</td>\n",
       "      <td>ID=NXF2B;Name=NXF2B;Desc=nuclear RNA export fa...</td>\n",
       "    </tr>\n",
       "    <tr>\n",
       "      <th>2</th>\n",
       "      <td>ENST00000618881</td>\n",
       "      <td>tappAS</td>\n",
       "      <td>CDS</td>\n",
       "      <td>1670</td>\n",
       "      <td>2896</td>\n",
       "      <td>NaN</td>\n",
       "      <td>-</td>\n",
       "      <td>0</td>\n",
       "      <td>ID=Q5JRM6;Desc=ENSP00000482525;PosType=T</td>\n",
       "    </tr>\n",
       "    <tr>\n",
       "      <th>3</th>\n",
       "      <td>ENST00000618881</td>\n",
       "      <td>UTRsite</td>\n",
       "      <td>PAS</td>\n",
       "      <td>3168</td>\n",
       "      <td>3193</td>\n",
       "      <td>NaN</td>\n",
       "      <td>-</td>\n",
       "      <td>0</td>\n",
       "      <td>ID=U0043;Name=PAS;Desc=Polyadenylation Signal;...</td>\n",
       "    </tr>\n",
       "    <tr>\n",
       "      <th>4</th>\n",
       "      <td>ENST00000618881</td>\n",
       "      <td>UTRsite</td>\n",
       "      <td>uORF</td>\n",
       "      <td>28</td>\n",
       "      <td>159</td>\n",
       "      <td>NaN</td>\n",
       "      <td>-</td>\n",
       "      <td>0</td>\n",
       "      <td>ID=U0033;Name=uORF;Desc=Upstream Open Reading ...</td>\n",
       "    </tr>\n",
       "    <tr>\n",
       "      <th>...</th>\n",
       "      <td>...</td>\n",
       "      <td>...</td>\n",
       "      <td>...</td>\n",
       "      <td>...</td>\n",
       "      <td>...</td>\n",
       "      <td>...</td>\n",
       "      <td>...</td>\n",
       "      <td>...</td>\n",
       "      <td>...</td>\n",
       "    </tr>\n",
       "    <tr>\n",
       "      <th>6398377</th>\n",
       "      <td>ENST00000335367</td>\n",
       "      <td>UniProtKB/Swiss-Prot_Phosphosite</td>\n",
       "      <td>PTM</td>\n",
       "      <td>539</td>\n",
       "      <td>539</td>\n",
       "      <td>NaN</td>\n",
       "      <td>NaN</td>\n",
       "      <td>0</td>\n",
       "      <td>ID=Phosphoserine;Name=Phosphoserine;Desc=Phosp...</td>\n",
       "    </tr>\n",
       "    <tr>\n",
       "      <th>6398378</th>\n",
       "      <td>ENST00000335367</td>\n",
       "      <td>UniProtKB/Swiss-Prot_Phosphosite</td>\n",
       "      <td>PTM</td>\n",
       "      <td>337</td>\n",
       "      <td>337</td>\n",
       "      <td>NaN</td>\n",
       "      <td>NaN</td>\n",
       "      <td>0</td>\n",
       "      <td>ID=Phosphoserine;Name=Phosphoserine;Desc=Phosp...</td>\n",
       "    </tr>\n",
       "    <tr>\n",
       "      <th>6398379</th>\n",
       "      <td>ENST00000335367</td>\n",
       "      <td>UniProtKB/Swiss-Prot_Phosphosite</td>\n",
       "      <td>BINDING</td>\n",
       "      <td>414</td>\n",
       "      <td>417</td>\n",
       "      <td>NaN</td>\n",
       "      <td>NaN</td>\n",
       "      <td>0</td>\n",
       "      <td>ID=Np_Bind;Name=Np_Bind;Desc=Gtp_SwissProt;Pos...</td>\n",
       "    </tr>\n",
       "    <tr>\n",
       "      <th>6398380</th>\n",
       "      <td>ENST00000335367</td>\n",
       "      <td>UniProtKB/Swiss-Prot_Phosphosite</td>\n",
       "      <td>PTM</td>\n",
       "      <td>552</td>\n",
       "      <td>552</td>\n",
       "      <td>NaN</td>\n",
       "      <td>NaN</td>\n",
       "      <td>0</td>\n",
       "      <td>ID=Phosphoserine;Name=Phosphoserine;Desc=Phosp...</td>\n",
       "    </tr>\n",
       "    <tr>\n",
       "      <th>6398381</th>\n",
       "      <td>ENST00000335367</td>\n",
       "      <td>UniProtKB/Swiss-Prot_Phosphosite</td>\n",
       "      <td>PTM</td>\n",
       "      <td>540</td>\n",
       "      <td>540</td>\n",
       "      <td>NaN</td>\n",
       "      <td>NaN</td>\n",
       "      <td>0</td>\n",
       "      <td>ID=Phosphothreonine;Name=Phosphothreonine;Desc...</td>\n",
       "    </tr>\n",
       "  </tbody>\n",
       "</table>\n",
       "<p>6398382 rows × 9 columns</p>\n",
       "</div>"
      ],
      "text/plain": [
       "                 seqname                            source     feature  start  \\\n",
       "0        ENST00000618881                            tappAS  transcript      1   \n",
       "1        ENST00000618881                            tappAS        gene      1   \n",
       "2        ENST00000618881                            tappAS         CDS   1670   \n",
       "3        ENST00000618881                           UTRsite         PAS   3168   \n",
       "4        ENST00000618881                           UTRsite        uORF     28   \n",
       "...                  ...                               ...         ...    ...   \n",
       "6398377  ENST00000335367  UniProtKB/Swiss-Prot_Phosphosite         PTM    539   \n",
       "6398378  ENST00000335367  UniProtKB/Swiss-Prot_Phosphosite         PTM    337   \n",
       "6398379  ENST00000335367  UniProtKB/Swiss-Prot_Phosphosite     BINDING    414   \n",
       "6398380  ENST00000335367  UniProtKB/Swiss-Prot_Phosphosite         PTM    552   \n",
       "6398381  ENST00000335367  UniProtKB/Swiss-Prot_Phosphosite         PTM    540   \n",
       "\n",
       "          end  score strand  frame  \\\n",
       "0        3193    NaN      -      0   \n",
       "1        3193    NaN      -      0   \n",
       "2        2896    NaN      -      0   \n",
       "3        3193    NaN      -      0   \n",
       "4         159    NaN      -      0   \n",
       "...       ...    ...    ...    ...   \n",
       "6398377   539    NaN    NaN      0   \n",
       "6398378   337    NaN    NaN      0   \n",
       "6398379   417    NaN    NaN      0   \n",
       "6398380   552    NaN    NaN      0   \n",
       "6398381   540    NaN    NaN      0   \n",
       "\n",
       "                                                 attribute  \n",
       "0        ID=ENST00000618881;primary_class=protein_codin...  \n",
       "1        ID=NXF2B;Name=NXF2B;Desc=nuclear RNA export fa...  \n",
       "2                 ID=Q5JRM6;Desc=ENSP00000482525;PosType=T  \n",
       "3        ID=U0043;Name=PAS;Desc=Polyadenylation Signal;...  \n",
       "4        ID=U0033;Name=uORF;Desc=Upstream Open Reading ...  \n",
       "...                                                    ...  \n",
       "6398377  ID=Phosphoserine;Name=Phosphoserine;Desc=Phosp...  \n",
       "6398378  ID=Phosphoserine;Name=Phosphoserine;Desc=Phosp...  \n",
       "6398379  ID=Np_Bind;Name=Np_Bind;Desc=Gtp_SwissProt;Pos...  \n",
       "6398380  ID=Phosphoserine;Name=Phosphoserine;Desc=Phosp...  \n",
       "6398381  ID=Phosphothreonine;Name=Phosphothreonine;Desc...  \n",
       "\n",
       "[6398382 rows x 9 columns]"
      ]
     },
     "execution_count": 6,
     "metadata": {},
     "output_type": "execute_result"
    }
   ],
   "source": [
    "annot_df"
   ]
  },
  {
   "cell_type": "code",
   "execution_count": 7,
   "metadata": {},
   "outputs": [
    {
     "name": "stderr",
     "output_type": "stream",
     "text": [
      "/home/milo/miniconda3/envs/sqanti3/lib/python3.7/site-packages/ipykernel_launcher.py:1: UserWarning: Boolean Series key will be reindexed to match DataFrame index.\n",
      "  \"\"\"Entry point for launching an IPython kernel.\n"
     ]
    }
   ],
   "source": [
    "dcTrans = annot_df[annot_df['source'] == \"tappAS\"][annot_df[\"feature\"].isin([\"transcript\",\"gene\",\"CDS\"])]"
   ]
  },
  {
   "cell_type": "code",
   "execution_count": 18,
   "metadata": {},
   "outputs": [
    {
     "data": {
      "text/plain": [
       "188667"
      ]
     },
     "execution_count": 18,
     "metadata": {},
     "output_type": "execute_result"
    }
   ],
   "source": [
    "len(dcTrans[\"seqname\"].unique())"
   ]
  },
  {
   "cell_type": "code",
   "execution_count": 9,
   "metadata": {},
   "outputs": [
    {
     "data": {
      "text/plain": [
       "188667"
      ]
     },
     "execution_count": 9,
     "metadata": {},
     "output_type": "execute_result"
    }
   ],
   "source": [
    "dcExon = annot_df[annot_df[\"feature\"] == \"exon\"]\n",
    "len(dcExon['seqname'].unique())"
   ]
  },
  {
   "cell_type": "code",
   "execution_count": 10,
   "metadata": {},
   "outputs": [
    {
     "data": {
      "text/plain": [
       "188667"
      ]
     },
     "execution_count": 10,
     "metadata": {},
     "output_type": "execute_result"
    }
   ],
   "source": [
    "dcGenomic = annot_df[annot_df[\"feature\"] == \"genomic\"]\n",
    "len(dcGenomic['seqname'].unique())"
   ]
  },
  {
   "cell_type": "code",
   "execution_count": 11,
   "metadata": {},
   "outputs": [
    {
     "data": {
      "text/plain": [
       "163788"
      ]
     },
     "execution_count": 11,
     "metadata": {},
     "output_type": "execute_result"
    }
   ],
   "source": [
    "dcSpliceJunctions = annot_df[annot_df[\"feature\"] == \"splice_junction\"]\n",
    "len(dcSpliceJunctions['seqname'].unique())"
   ]
  },
  {
   "cell_type": "code",
   "execution_count": 12,
   "metadata": {},
   "outputs": [
    {
     "data": {
      "text/plain": [
       "85103"
      ]
     },
     "execution_count": 12,
     "metadata": {},
     "output_type": "execute_result"
    }
   ],
   "source": [
    "dcProt = annot_df[annot_df[\"feature\"] == \"protein\"]\n",
    "len(dcProt['seqname'].unique())"
   ]
  },
  {
   "cell_type": "code",
   "execution_count": 13,
   "metadata": {},
   "outputs": [
    {
     "data": {
      "text/plain": [
       "0"
      ]
     },
     "execution_count": 13,
     "metadata": {},
     "output_type": "execute_result"
    }
   ],
   "source": [
    "dcTranscriptAttributes = annot_df[annot_df[\"source\"] == \"TranscriptAttributes\"]\n",
    "len(dcTranscriptAttributes['seqname'].unique())"
   ]
  },
  {
   "cell_type": "code",
   "execution_count": 16,
   "metadata": {},
   "outputs": [
    {
     "name": "stderr",
     "output_type": "stream",
     "text": [
      "/home/milo/miniconda3/envs/sqanti3/lib/python3.7/site-packages/ipykernel_launcher.py:1: UserWarning: Boolean Series key will be reindexed to match DataFrame index.\n",
      "  \"\"\"Entry point for launching an IPython kernel.\n"
     ]
    },
    {
     "data": {
      "text/plain": [
       "124947"
      ]
     },
     "execution_count": 16,
     "metadata": {},
     "output_type": "execute_result"
    }
   ],
   "source": [
    "dcTransFeatures = annot_df[annot_df[\"attribute\"].str.contains(\"PosType=T\")][~annot_df[\"feature\"].isin(['exon',\"genomic\",\"splice_junction\",\"protein\",\"transcript\",\"gene\",\"CDS\"])]\n",
    "len(dcTransFeatures['seqname'].unique())"
   ]
  },
  {
   "cell_type": "code",
   "execution_count": 17,
   "metadata": {},
   "outputs": [
    {
     "name": "stderr",
     "output_type": "stream",
     "text": [
      "/home/milo/miniconda3/envs/sqanti3/lib/python3.7/site-packages/ipykernel_launcher.py:1: UserWarning: Boolean Series key will be reindexed to match DataFrame index.\n",
      "  \"\"\"Entry point for launching an IPython kernel.\n"
     ]
    },
    {
     "data": {
      "text/plain": [
       "79641"
      ]
     },
     "execution_count": 17,
     "metadata": {},
     "output_type": "execute_result"
    }
   ],
   "source": [
    "dcProtFeatures = annot_df[annot_df[\"attribute\"].str.contains(\"PosType=[P|G|N]\")][~annot_df[\"feature\"].isin(['exon',\"genomic\",\"splice_junction\",\"protein\",\"transcript\",\"gene\",\"CDS\"])]\n",
    "len(dcProtFeatures['seqname'].unique())"
   ]
  },
  {
   "cell_type": "code",
   "execution_count": 21,
   "metadata": {},
   "outputs": [
    {
     "data": {
      "text/plain": [
       "<pandas.core.groupby.generic.DataFrameGroupBy object at 0x7fe04e2a1790>"
      ]
     },
     "execution_count": 21,
     "metadata": {},
     "output_type": "execute_result"
    }
   ],
   "source": [
    "dcProtFeatures.groupby(\"seqname\")"
   ]
  }
 ],
 "metadata": {
  "kernelspec": {
   "display_name": "Python 3",
   "language": "python",
   "name": "python3"
  },
  "language_info": {
   "codemirror_mode": {
    "name": "ipython",
    "version": 3
   },
   "file_extension": ".py",
   "mimetype": "text/x-python",
   "name": "python",
   "nbconvert_exporter": "python",
   "pygments_lexer": "ipython3",
   "version": "3.7.6"
  }
 },
 "nbformat": 4,
 "nbformat_minor": 4
}
